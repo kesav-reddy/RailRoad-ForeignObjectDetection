{
 "cells": [
  {
   "cell_type": "code",
   "execution_count": 2,
   "metadata": {},
   "outputs": [
    {
     "name": "stdout",
     "output_type": "stream",
     "text": [
      "Resizing completed.\n"
     ]
    }
   ],
   "source": [
    "import os\n",
    "from PIL import Image\n",
    "\n",
    "# Define the paths\n",
    "base_path = '/Users/kesavreddy/Downloads/College/Sem VII/Computer_Vision/Dataset'\n",
    "train_path = os.path.join(base_path, 'train')\n",
    "valid_path = os.path.join(base_path, 'valid')\n",
    "\n",
    "# Function to resize images\n",
    "def resize_images(folder_path):\n",
    "    for subfolder in ['images', 'masks']:\n",
    "        subfolder_path = os.path.join(folder_path, subfolder)\n",
    "        for filename in os.listdir(subfolder_path):\n",
    "            if filename.endswith('.png') or filename.endswith('.jpg'):\n",
    "                img_path = os.path.join(subfolder_path, filename)\n",
    "                with Image.open(img_path) as img:\n",
    "                    img_resized = img.resize((336, 336), Image.LANCZOS)  # Use LANCZOS for high-quality resizing\n",
    "                    img_resized.save(img_path)\n",
    "\n",
    "# Resize train and valid images and masks\n",
    "resize_images(train_path)\n",
    "resize_images(valid_path)\n",
    "\n",
    "print(\"Resizing completed.\")\n"
   ]
  },
  {
   "cell_type": "code",
   "execution_count": 1,
   "metadata": {},
   "outputs": [
    {
     "name": "stdout",
     "output_type": "stream",
     "text": [
      "Resizing completed.\n"
     ]
    }
   ],
   "source": [
    "import os\n",
    "from PIL import Image\n",
    "\n",
    "# Define the paths\n",
    "base_path = '/Users/kesavreddy/Downloads/College/Sem VII/Computer_Vision/Dataset2'\n",
    "train_path = os.path.join(base_path, 'train')\n",
    "valid_path = os.path.join(base_path, 'valid')\n",
    "\n",
    "# Function to resize images\n",
    "def resize_images(folder_path):\n",
    "    for subfolder in ['images', 'masks']:\n",
    "        subfolder_path = os.path.join(folder_path, subfolder)\n",
    "        for filename in os.listdir(subfolder_path):\n",
    "            if filename.endswith('.png') or filename.endswith('.jpg'):\n",
    "                img_path = os.path.join(subfolder_path, filename)\n",
    "                with Image.open(img_path) as img:\n",
    "                    img_resized = img.resize((256, 256), Image.LANCZOS)  # Use LANCZOS for high-quality resizing\n",
    "                    img_resized.save(img_path)\n",
    "\n",
    "# Resize train and valid images and masks\n",
    "resize_images(train_path)\n",
    "resize_images(valid_path)\n",
    "\n",
    "print(\"Resizing completed.\")\n"
   ]
  },
  {
   "cell_type": "code",
   "execution_count": null,
   "metadata": {},
   "outputs": [],
   "source": []
  }
 ],
 "metadata": {
  "kernelspec": {
   "display_name": "base",
   "language": "python",
   "name": "python3"
  },
  "language_info": {
   "codemirror_mode": {
    "name": "ipython",
    "version": 3
   },
   "file_extension": ".py",
   "mimetype": "text/x-python",
   "name": "python",
   "nbconvert_exporter": "python",
   "pygments_lexer": "ipython3",
   "version": "3.11.5"
  }
 },
 "nbformat": 4,
 "nbformat_minor": 2
}
