{
 "cells": [
  {
   "cell_type": "code",
   "execution_count": 2,
   "metadata": {},
   "outputs": [
    {
     "name": "stdout",
     "output_type": "stream",
     "text": [
      "loading annotations into memory...\n",
      "Done (t=0.06s)\n",
      "creating index...\n",
      "index created!\n"
     ]
    }
   ],
   "source": [
    "from pycocotools.coco import COCO\n",
    "import os\n",
    "import numpy as np\n",
    "from PIL import Image, ImageDraw\n",
    "\n",
    "annotations_file = \"/Users/kesavreddy/Downloads/College/Sem VII/Computer_Vision/ComputerVision RailRoadFOD/train/_annotations.coco.json\"\n",
    "image_dir = \"/Users/kesavreddy/Downloads/College/Sem VII/Computer_Vision/ComputerVision RailRoadFOD/train\"\n",
    "\n",
    "mask_dir = \"/Users/kesavreddy/Downloads/College/Sem VII/Computer_Vision/ComputerVision RailRoadFOD/masked_train\"\n",
    "\n",
    "if not os.path.exists(mask_dir):\n",
    "    os.makedirs(mask_dir)\n",
    "\n",
    "coco = COCO(annotations_file)\n",
    "\n",
    "image_ids = coco.getImgIds()\n",
    "\n",
    "for img_id in image_ids:\n",
    "    img_info = coco.loadImgs(img_id)[0]\n",
    "    img_filename = img_info['file_name']\n",
    "    img_name, img_ext = os.path.splitext(img_filename)\n",
    "    \n",
    "    ann_ids = coco.getAnnIds(imgIds=img_id)\n",
    "    anns = coco.loadAnns(ann_ids)\n",
    "    \n",
    "    mask = Image.new('L', (img_info['width'], img_info['height']), 0)\n",
    "    draw = ImageDraw.Draw(mask)\n",
    "    \n",
    "    for ann in anns:\n",
    "        segmentation = ann['segmentation']\n",
    "        for seg in segmentation:\n",
    "            seg = [(seg[i], seg[i + 1]) for i in range(0, len(seg), 2)]\n",
    "            draw.polygon(seg, fill=255)\n",
    "    \n",
    "    mask.save(os.path.join(mask_dir, f\"{img_name}_masked.jpg\"))\n"
   ]
  },
  {
   "cell_type": "code",
   "execution_count": 3,
   "metadata": {},
   "outputs": [
    {
     "name": "stdout",
     "output_type": "stream",
     "text": [
      "loading annotations into memory...\n",
      "Done (t=0.00s)\n",
      "creating index...\n",
      "index created!\n"
     ]
    }
   ],
   "source": [
    "from pycocotools.coco import COCO\n",
    "import os\n",
    "import numpy as np\n",
    "from PIL import Image, ImageDraw\n",
    "\n",
    "annotations_file = \"/Users/kesavreddy/Downloads/College/Sem VII/Computer_Vision/ComputerVision RailRoadFOD/test/_annotations.coco.json\"\n",
    "image_dir = \"/Users/kesavreddy/Downloads/College/Sem VII/Computer_Vision/ComputerVision RailRoadFOD/test\"\n",
    "\n",
    "mask_dir = \"/Users/kesavreddy/Downloads/College/Sem VII/Computer_Vision/ComputerVision RailRoadFOD/masked_test\"\n",
    "\n",
    "if not os.path.exists(mask_dir):\n",
    "    os.makedirs(mask_dir)\n",
    "\n",
    "coco = COCO(annotations_file)\n",
    "\n",
    "image_ids = coco.getImgIds()\n",
    "\n",
    "for img_id in image_ids:\n",
    "    img_info = coco.loadImgs(img_id)[0]\n",
    "    img_filename = img_info['file_name']\n",
    "    img_name, img_ext = os.path.splitext(img_filename)\n",
    "    \n",
    "    ann_ids = coco.getAnnIds(imgIds=img_id)\n",
    "    anns = coco.loadAnns(ann_ids)\n",
    "    \n",
    "    mask = Image.new('L', (img_info['width'], img_info['height']), 0)\n",
    "    draw = ImageDraw.Draw(mask)\n",
    "    \n",
    "    for ann in anns:\n",
    "        segmentation = ann['segmentation']\n",
    "        for seg in segmentation:\n",
    "            seg = [(seg[i], seg[i + 1]) for i in range(0, len(seg), 2)]\n",
    "            draw.polygon(seg, fill=255)\n",
    "    \n",
    "    mask.save(os.path.join(mask_dir, f\"{img_name}_masked.jpg\"))\n"
   ]
  },
  {
   "cell_type": "code",
   "execution_count": 4,
   "metadata": {},
   "outputs": [
    {
     "name": "stdout",
     "output_type": "stream",
     "text": [
      "loading annotations into memory...\n",
      "Done (t=0.01s)\n",
      "creating index...\n",
      "index created!\n"
     ]
    }
   ],
   "source": [
    "from pycocotools.coco import COCO\n",
    "import os\n",
    "import numpy as np\n",
    "from PIL import Image, ImageDraw\n",
    "\n",
    "annotations_file = \"/Users/kesavreddy/Downloads/College/Sem VII/Computer_Vision/ComputerVision RailRoadFOD/valid/_annotations.coco.json\"\n",
    "image_dir = \"/Users/kesavreddy/Downloads/College/Sem VII/Computer_Vision/ComputerVision RailRoadFOD/valid\"\n",
    "\n",
    "mask_dir = \"/Users/kesavreddy/Downloads/College/Sem VII/Computer_Vision/ComputerVision RailRoadFOD/masked_valid\"\n",
    "\n",
    "if not os.path.exists(mask_dir):\n",
    "    os.makedirs(mask_dir)\n",
    "\n",
    "coco = COCO(annotations_file)\n",
    "\n",
    "image_ids = coco.getImgIds()\n",
    "\n",
    "for img_id in image_ids:\n",
    "    img_info = coco.loadImgs(img_id)[0]\n",
    "    img_filename = img_info['file_name']\n",
    "    img_name, img_ext = os.path.splitext(img_filename)\n",
    "    \n",
    "\n",
    "    ann_ids = coco.getAnnIds(imgIds=img_id)\n",
    "    anns = coco.loadAnns(ann_ids)\n",
    "    \n",
    "    mask = Image.new('L', (img_info['width'], img_info['height']), 0)\n",
    "    draw = ImageDraw.Draw(mask)\n",
    "    \n",
    "    for ann in anns:\n",
    "        segmentation = ann['segmentation']\n",
    "        for seg in segmentation:\n",
    "            seg = [(seg[i], seg[i + 1]) for i in range(0, len(seg), 2)]\n",
    "            draw.polygon(seg, fill=255)\n",
    "    \n",
    "    mask.save(os.path.join(mask_dir, f\"{img_name}_masked.jpg\"))\n"
   ]
  },
  {
   "cell_type": "code",
   "execution_count": null,
   "metadata": {},
   "outputs": [],
   "source": []
  }
 ],
 "metadata": {
  "kernelspec": {
   "display_name": "base",
   "language": "python",
   "name": "python3"
  },
  "language_info": {
   "codemirror_mode": {
    "name": "ipython",
    "version": 3
   },
   "file_extension": ".py",
   "mimetype": "text/x-python",
   "name": "python",
   "nbconvert_exporter": "python",
   "pygments_lexer": "ipython3",
   "version": "3.11.5"
  }
 },
 "nbformat": 4,
 "nbformat_minor": 2
}
